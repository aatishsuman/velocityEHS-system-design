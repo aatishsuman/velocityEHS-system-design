{
  "nbformat": 4,
  "nbformat_minor": 0,
  "metadata": {
    "colab": {
      "name": "classification_model.ipynb",
      "provenance": [],
      "collapsed_sections": []
    },
    "kernelspec": {
      "name": "python3",
      "display_name": "Python 3"
    },
    "language_info": {
      "name": "python"
    },
    "accelerator": "GPU",
    "widgets": {
      "application/vnd.jupyter.widget-state+json": {
        "5c483b59b516483c859c7b9a424fbc92": {
          "model_module": "@jupyter-widgets/controls",
          "model_name": "HBoxModel",
          "state": {
            "_view_name": "HBoxView",
            "_dom_classes": [],
            "_model_name": "HBoxModel",
            "_view_module": "@jupyter-widgets/controls",
            "_model_module_version": "1.5.0",
            "_view_count": null,
            "_view_module_version": "1.5.0",
            "box_style": "",
            "layout": "IPY_MODEL_c759ef2ff3ac4619b49f611335f23502",
            "_model_module": "@jupyter-widgets/controls",
            "children": [
              "IPY_MODEL_bbe5a8c038cf4c1d9d59bc6752f54895",
              "IPY_MODEL_6e6584769c594a66a8756b57396fab38"
            ]
          }
        },
        "c759ef2ff3ac4619b49f611335f23502": {
          "model_module": "@jupyter-widgets/base",
          "model_name": "LayoutModel",
          "state": {
            "_view_name": "LayoutView",
            "grid_template_rows": null,
            "right": null,
            "justify_content": null,
            "_view_module": "@jupyter-widgets/base",
            "overflow": null,
            "_model_module_version": "1.2.0",
            "_view_count": null,
            "flex_flow": null,
            "width": null,
            "min_width": null,
            "border": null,
            "align_items": null,
            "bottom": null,
            "_model_module": "@jupyter-widgets/base",
            "top": null,
            "grid_column": null,
            "overflow_y": null,
            "overflow_x": null,
            "grid_auto_flow": null,
            "grid_area": null,
            "grid_template_columns": null,
            "flex": null,
            "_model_name": "LayoutModel",
            "justify_items": null,
            "grid_row": null,
            "max_height": null,
            "align_content": null,
            "visibility": null,
            "align_self": null,
            "height": null,
            "min_height": null,
            "padding": null,
            "grid_auto_rows": null,
            "grid_gap": null,
            "max_width": null,
            "order": null,
            "_view_module_version": "1.2.0",
            "grid_template_areas": null,
            "object_position": null,
            "object_fit": null,
            "grid_auto_columns": null,
            "margin": null,
            "display": null,
            "left": null
          }
        },
        "bbe5a8c038cf4c1d9d59bc6752f54895": {
          "model_module": "@jupyter-widgets/controls",
          "model_name": "FloatProgressModel",
          "state": {
            "_view_name": "ProgressView",
            "style": "IPY_MODEL_148c4c80b22b46e7b39dcf124e2d0ddb",
            "_dom_classes": [],
            "description": "Training  : 100%",
            "_model_name": "FloatProgressModel",
            "bar_style": "success",
            "max": 3,
            "_view_module": "@jupyter-widgets/controls",
            "_model_module_version": "1.5.0",
            "value": 3,
            "_view_count": null,
            "_view_module_version": "1.5.0",
            "orientation": "horizontal",
            "min": 0,
            "description_tooltip": null,
            "_model_module": "@jupyter-widgets/controls",
            "layout": "IPY_MODEL_5353b28cdc7d4fa5bdc8d29f58ffd351"
          }
        },
        "6e6584769c594a66a8756b57396fab38": {
          "model_module": "@jupyter-widgets/controls",
          "model_name": "HTMLModel",
          "state": {
            "_view_name": "HTMLView",
            "style": "IPY_MODEL_c3975981a43044bb834cc7c2d45e3280",
            "_dom_classes": [],
            "description": "",
            "_model_name": "HTMLModel",
            "placeholder": "​",
            "_view_module": "@jupyter-widgets/controls",
            "_model_module_version": "1.5.0",
            "value": " 3/3 [30:53&lt;00:00, 617.70s/it, loss=0.979]",
            "_view_count": null,
            "_view_module_version": "1.5.0",
            "description_tooltip": null,
            "_model_module": "@jupyter-widgets/controls",
            "layout": "IPY_MODEL_aa63f5c021b148489ca004a579f4c9bd"
          }
        },
        "148c4c80b22b46e7b39dcf124e2d0ddb": {
          "model_module": "@jupyter-widgets/controls",
          "model_name": "ProgressStyleModel",
          "state": {
            "_view_name": "StyleView",
            "_model_name": "ProgressStyleModel",
            "description_width": "initial",
            "_view_module": "@jupyter-widgets/base",
            "_model_module_version": "1.5.0",
            "_view_count": null,
            "_view_module_version": "1.2.0",
            "bar_color": null,
            "_model_module": "@jupyter-widgets/controls"
          }
        },
        "5353b28cdc7d4fa5bdc8d29f58ffd351": {
          "model_module": "@jupyter-widgets/base",
          "model_name": "LayoutModel",
          "state": {
            "_view_name": "LayoutView",
            "grid_template_rows": null,
            "right": null,
            "justify_content": null,
            "_view_module": "@jupyter-widgets/base",
            "overflow": null,
            "_model_module_version": "1.2.0",
            "_view_count": null,
            "flex_flow": null,
            "width": null,
            "min_width": null,
            "border": null,
            "align_items": null,
            "bottom": null,
            "_model_module": "@jupyter-widgets/base",
            "top": null,
            "grid_column": null,
            "overflow_y": null,
            "overflow_x": null,
            "grid_auto_flow": null,
            "grid_area": null,
            "grid_template_columns": null,
            "flex": null,
            "_model_name": "LayoutModel",
            "justify_items": null,
            "grid_row": null,
            "max_height": null,
            "align_content": null,
            "visibility": null,
            "align_self": null,
            "height": null,
            "min_height": null,
            "padding": null,
            "grid_auto_rows": null,
            "grid_gap": null,
            "max_width": null,
            "order": null,
            "_view_module_version": "1.2.0",
            "grid_template_areas": null,
            "object_position": null,
            "object_fit": null,
            "grid_auto_columns": null,
            "margin": null,
            "display": null,
            "left": null
          }
        },
        "c3975981a43044bb834cc7c2d45e3280": {
          "model_module": "@jupyter-widgets/controls",
          "model_name": "DescriptionStyleModel",
          "state": {
            "_view_name": "StyleView",
            "_model_name": "DescriptionStyleModel",
            "description_width": "",
            "_view_module": "@jupyter-widgets/base",
            "_model_module_version": "1.5.0",
            "_view_count": null,
            "_view_module_version": "1.2.0",
            "_model_module": "@jupyter-widgets/controls"
          }
        },
        "aa63f5c021b148489ca004a579f4c9bd": {
          "model_module": "@jupyter-widgets/base",
          "model_name": "LayoutModel",
          "state": {
            "_view_name": "LayoutView",
            "grid_template_rows": null,
            "right": null,
            "justify_content": null,
            "_view_module": "@jupyter-widgets/base",
            "overflow": null,
            "_model_module_version": "1.2.0",
            "_view_count": null,
            "flex_flow": null,
            "width": null,
            "min_width": null,
            "border": null,
            "align_items": null,
            "bottom": null,
            "_model_module": "@jupyter-widgets/base",
            "top": null,
            "grid_column": null,
            "overflow_y": null,
            "overflow_x": null,
            "grid_auto_flow": null,
            "grid_area": null,
            "grid_template_columns": null,
            "flex": null,
            "_model_name": "LayoutModel",
            "justify_items": null,
            "grid_row": null,
            "max_height": null,
            "align_content": null,
            "visibility": null,
            "align_self": null,
            "height": null,
            "min_height": null,
            "padding": null,
            "grid_auto_rows": null,
            "grid_gap": null,
            "max_width": null,
            "order": null,
            "_view_module_version": "1.2.0",
            "grid_template_areas": null,
            "object_position": null,
            "object_fit": null,
            "grid_auto_columns": null,
            "margin": null,
            "display": null,
            "left": null
          }
        },
        "d89551344e844ea588c30004610bf95c": {
          "model_module": "@jupyter-widgets/controls",
          "model_name": "HBoxModel",
          "state": {
            "_view_name": "HBoxView",
            "_dom_classes": [],
            "_model_name": "HBoxModel",
            "_view_module": "@jupyter-widgets/controls",
            "_model_module_version": "1.5.0",
            "_view_count": null,
            "_view_module_version": "1.5.0",
            "box_style": "",
            "layout": "IPY_MODEL_fae660e09ec84e90919e5f193c03ffbf",
            "_model_module": "@jupyter-widgets/controls",
            "children": [
              "IPY_MODEL_6bf322f9ebbd420ead95a578d50c7b1c",
              "IPY_MODEL_597424daeb5b43c8a23842460152f91d"
            ]
          }
        },
        "fae660e09ec84e90919e5f193c03ffbf": {
          "model_module": "@jupyter-widgets/base",
          "model_name": "LayoutModel",
          "state": {
            "_view_name": "LayoutView",
            "grid_template_rows": null,
            "right": null,
            "justify_content": null,
            "_view_module": "@jupyter-widgets/base",
            "overflow": null,
            "_model_module_version": "1.2.0",
            "_view_count": null,
            "flex_flow": null,
            "width": null,
            "min_width": null,
            "border": null,
            "align_items": null,
            "bottom": null,
            "_model_module": "@jupyter-widgets/base",
            "top": null,
            "grid_column": null,
            "overflow_y": null,
            "overflow_x": null,
            "grid_auto_flow": null,
            "grid_area": null,
            "grid_template_columns": null,
            "flex": null,
            "_model_name": "LayoutModel",
            "justify_items": null,
            "grid_row": null,
            "max_height": null,
            "align_content": null,
            "visibility": null,
            "align_self": null,
            "height": null,
            "min_height": null,
            "padding": null,
            "grid_auto_rows": null,
            "grid_gap": null,
            "max_width": null,
            "order": null,
            "_view_module_version": "1.2.0",
            "grid_template_areas": null,
            "object_position": null,
            "object_fit": null,
            "grid_auto_columns": null,
            "margin": null,
            "display": null,
            "left": null
          }
        },
        "6bf322f9ebbd420ead95a578d50c7b1c": {
          "model_module": "@jupyter-widgets/controls",
          "model_name": "FloatProgressModel",
          "state": {
            "_view_name": "ProgressView",
            "style": "IPY_MODEL_bc8743711c33442e803bad030f0dfda3",
            "_dom_classes": [],
            "description": "Training  : 100%",
            "_model_name": "FloatProgressModel",
            "bar_style": "success",
            "max": 3,
            "_view_module": "@jupyter-widgets/controls",
            "_model_module_version": "1.5.0",
            "value": 3,
            "_view_count": null,
            "_view_module_version": "1.5.0",
            "orientation": "horizontal",
            "min": 0,
            "description_tooltip": null,
            "_model_module": "@jupyter-widgets/controls",
            "layout": "IPY_MODEL_0f40d93420944075b793a1fb344a9d13"
          }
        },
        "597424daeb5b43c8a23842460152f91d": {
          "model_module": "@jupyter-widgets/controls",
          "model_name": "HTMLModel",
          "state": {
            "_view_name": "HTMLView",
            "style": "IPY_MODEL_e324e9d29aee4ccd8527ee86d10629e8",
            "_dom_classes": [],
            "description": "",
            "_model_name": "HTMLModel",
            "placeholder": "​",
            "_view_module": "@jupyter-widgets/controls",
            "_model_module_version": "1.5.0",
            "value": " 3/3 [00:02&lt;00:00,  1.08it/s, loss=0.704]",
            "_view_count": null,
            "_view_module_version": "1.5.0",
            "description_tooltip": null,
            "_model_module": "@jupyter-widgets/controls",
            "layout": "IPY_MODEL_b079587cb05c489faa3abc07a525683a"
          }
        },
        "bc8743711c33442e803bad030f0dfda3": {
          "model_module": "@jupyter-widgets/controls",
          "model_name": "ProgressStyleModel",
          "state": {
            "_view_name": "StyleView",
            "_model_name": "ProgressStyleModel",
            "description_width": "initial",
            "_view_module": "@jupyter-widgets/base",
            "_model_module_version": "1.5.0",
            "_view_count": null,
            "_view_module_version": "1.2.0",
            "bar_color": null,
            "_model_module": "@jupyter-widgets/controls"
          }
        },
        "0f40d93420944075b793a1fb344a9d13": {
          "model_module": "@jupyter-widgets/base",
          "model_name": "LayoutModel",
          "state": {
            "_view_name": "LayoutView",
            "grid_template_rows": null,
            "right": null,
            "justify_content": null,
            "_view_module": "@jupyter-widgets/base",
            "overflow": null,
            "_model_module_version": "1.2.0",
            "_view_count": null,
            "flex_flow": null,
            "width": null,
            "min_width": null,
            "border": null,
            "align_items": null,
            "bottom": null,
            "_model_module": "@jupyter-widgets/base",
            "top": null,
            "grid_column": null,
            "overflow_y": null,
            "overflow_x": null,
            "grid_auto_flow": null,
            "grid_area": null,
            "grid_template_columns": null,
            "flex": null,
            "_model_name": "LayoutModel",
            "justify_items": null,
            "grid_row": null,
            "max_height": null,
            "align_content": null,
            "visibility": null,
            "align_self": null,
            "height": null,
            "min_height": null,
            "padding": null,
            "grid_auto_rows": null,
            "grid_gap": null,
            "max_width": null,
            "order": null,
            "_view_module_version": "1.2.0",
            "grid_template_areas": null,
            "object_position": null,
            "object_fit": null,
            "grid_auto_columns": null,
            "margin": null,
            "display": null,
            "left": null
          }
        },
        "e324e9d29aee4ccd8527ee86d10629e8": {
          "model_module": "@jupyter-widgets/controls",
          "model_name": "DescriptionStyleModel",
          "state": {
            "_view_name": "StyleView",
            "_model_name": "DescriptionStyleModel",
            "description_width": "",
            "_view_module": "@jupyter-widgets/base",
            "_model_module_version": "1.5.0",
            "_view_count": null,
            "_view_module_version": "1.2.0",
            "_model_module": "@jupyter-widgets/controls"
          }
        },
        "b079587cb05c489faa3abc07a525683a": {
          "model_module": "@jupyter-widgets/base",
          "model_name": "LayoutModel",
          "state": {
            "_view_name": "LayoutView",
            "grid_template_rows": null,
            "right": null,
            "justify_content": null,
            "_view_module": "@jupyter-widgets/base",
            "overflow": null,
            "_model_module_version": "1.2.0",
            "_view_count": null,
            "flex_flow": null,
            "width": null,
            "min_width": null,
            "border": null,
            "align_items": null,
            "bottom": null,
            "_model_module": "@jupyter-widgets/base",
            "top": null,
            "grid_column": null,
            "overflow_y": null,
            "overflow_x": null,
            "grid_auto_flow": null,
            "grid_area": null,
            "grid_template_columns": null,
            "flex": null,
            "_model_name": "LayoutModel",
            "justify_items": null,
            "grid_row": null,
            "max_height": null,
            "align_content": null,
            "visibility": null,
            "align_self": null,
            "height": null,
            "min_height": null,
            "padding": null,
            "grid_auto_rows": null,
            "grid_gap": null,
            "max_width": null,
            "order": null,
            "_view_module_version": "1.2.0",
            "grid_template_areas": null,
            "object_position": null,
            "object_fit": null,
            "grid_auto_columns": null,
            "margin": null,
            "display": null,
            "left": null
          }
        },
        "8e85088d55804e1f9e303d026cb28ac6": {
          "model_module": "@jupyter-widgets/controls",
          "model_name": "HBoxModel",
          "state": {
            "_view_name": "HBoxView",
            "_dom_classes": [],
            "_model_name": "HBoxModel",
            "_view_module": "@jupyter-widgets/controls",
            "_model_module_version": "1.5.0",
            "_view_count": null,
            "_view_module_version": "1.5.0",
            "box_style": "",
            "layout": "IPY_MODEL_08d4334b0e3944d6883ad95c128bf0d3",
            "_model_module": "@jupyter-widgets/controls",
            "children": [
              "IPY_MODEL_fbb3740da1b74841b22dd895e1f9d02b",
              "IPY_MODEL_124fe331f9df475081d54cb3e9a5d5c3"
            ]
          }
        },
        "08d4334b0e3944d6883ad95c128bf0d3": {
          "model_module": "@jupyter-widgets/base",
          "model_name": "LayoutModel",
          "state": {
            "_view_name": "LayoutView",
            "grid_template_rows": null,
            "right": null,
            "justify_content": null,
            "_view_module": "@jupyter-widgets/base",
            "overflow": null,
            "_model_module_version": "1.2.0",
            "_view_count": null,
            "flex_flow": null,
            "width": null,
            "min_width": null,
            "border": null,
            "align_items": null,
            "bottom": null,
            "_model_module": "@jupyter-widgets/base",
            "top": null,
            "grid_column": null,
            "overflow_y": null,
            "overflow_x": null,
            "grid_auto_flow": null,
            "grid_area": null,
            "grid_template_columns": null,
            "flex": null,
            "_model_name": "LayoutModel",
            "justify_items": null,
            "grid_row": null,
            "max_height": null,
            "align_content": null,
            "visibility": null,
            "align_self": null,
            "height": null,
            "min_height": null,
            "padding": null,
            "grid_auto_rows": null,
            "grid_gap": null,
            "max_width": null,
            "order": null,
            "_view_module_version": "1.2.0",
            "grid_template_areas": null,
            "object_position": null,
            "object_fit": null,
            "grid_auto_columns": null,
            "margin": null,
            "display": null,
            "left": null
          }
        },
        "fbb3740da1b74841b22dd895e1f9d02b": {
          "model_module": "@jupyter-widgets/controls",
          "model_name": "FloatProgressModel",
          "state": {
            "_view_name": "ProgressView",
            "style": "IPY_MODEL_744ddbe869de47c8bdeb1399c94eabc3",
            "_dom_classes": [],
            "description": "Training  : 100%",
            "_model_name": "FloatProgressModel",
            "bar_style": "success",
            "max": 3,
            "_view_module": "@jupyter-widgets/controls",
            "_model_module_version": "1.5.0",
            "value": 3,
            "_view_count": null,
            "_view_module_version": "1.5.0",
            "orientation": "horizontal",
            "min": 0,
            "description_tooltip": null,
            "_model_module": "@jupyter-widgets/controls",
            "layout": "IPY_MODEL_bfc824297b85459989c672d727ea1aff"
          }
        },
        "124fe331f9df475081d54cb3e9a5d5c3": {
          "model_module": "@jupyter-widgets/controls",
          "model_name": "HTMLModel",
          "state": {
            "_view_name": "HTMLView",
            "style": "IPY_MODEL_168d30973bc041d29490508769743db2",
            "_dom_classes": [],
            "description": "",
            "_model_name": "HTMLModel",
            "placeholder": "​",
            "_view_module": "@jupyter-widgets/controls",
            "_model_module_version": "1.5.0",
            "value": " 3/3 [30:48&lt;00:00, 616.05s/it, loss=0.55]",
            "_view_count": null,
            "_view_module_version": "1.5.0",
            "description_tooltip": null,
            "_model_module": "@jupyter-widgets/controls",
            "layout": "IPY_MODEL_7f3c52d365204b28b11b0dca3ef40063"
          }
        },
        "744ddbe869de47c8bdeb1399c94eabc3": {
          "model_module": "@jupyter-widgets/controls",
          "model_name": "ProgressStyleModel",
          "state": {
            "_view_name": "StyleView",
            "_model_name": "ProgressStyleModel",
            "description_width": "initial",
            "_view_module": "@jupyter-widgets/base",
            "_model_module_version": "1.5.0",
            "_view_count": null,
            "_view_module_version": "1.2.0",
            "bar_color": null,
            "_model_module": "@jupyter-widgets/controls"
          }
        },
        "bfc824297b85459989c672d727ea1aff": {
          "model_module": "@jupyter-widgets/base",
          "model_name": "LayoutModel",
          "state": {
            "_view_name": "LayoutView",
            "grid_template_rows": null,
            "right": null,
            "justify_content": null,
            "_view_module": "@jupyter-widgets/base",
            "overflow": null,
            "_model_module_version": "1.2.0",
            "_view_count": null,
            "flex_flow": null,
            "width": null,
            "min_width": null,
            "border": null,
            "align_items": null,
            "bottom": null,
            "_model_module": "@jupyter-widgets/base",
            "top": null,
            "grid_column": null,
            "overflow_y": null,
            "overflow_x": null,
            "grid_auto_flow": null,
            "grid_area": null,
            "grid_template_columns": null,
            "flex": null,
            "_model_name": "LayoutModel",
            "justify_items": null,
            "grid_row": null,
            "max_height": null,
            "align_content": null,
            "visibility": null,
            "align_self": null,
            "height": null,
            "min_height": null,
            "padding": null,
            "grid_auto_rows": null,
            "grid_gap": null,
            "max_width": null,
            "order": null,
            "_view_module_version": "1.2.0",
            "grid_template_areas": null,
            "object_position": null,
            "object_fit": null,
            "grid_auto_columns": null,
            "margin": null,
            "display": null,
            "left": null
          }
        },
        "168d30973bc041d29490508769743db2": {
          "model_module": "@jupyter-widgets/controls",
          "model_name": "DescriptionStyleModel",
          "state": {
            "_view_name": "StyleView",
            "_model_name": "DescriptionStyleModel",
            "description_width": "",
            "_view_module": "@jupyter-widgets/base",
            "_model_module_version": "1.5.0",
            "_view_count": null,
            "_view_module_version": "1.2.0",
            "_model_module": "@jupyter-widgets/controls"
          }
        },
        "7f3c52d365204b28b11b0dca3ef40063": {
          "model_module": "@jupyter-widgets/base",
          "model_name": "LayoutModel",
          "state": {
            "_view_name": "LayoutView",
            "grid_template_rows": null,
            "right": null,
            "justify_content": null,
            "_view_module": "@jupyter-widgets/base",
            "overflow": null,
            "_model_module_version": "1.2.0",
            "_view_count": null,
            "flex_flow": null,
            "width": null,
            "min_width": null,
            "border": null,
            "align_items": null,
            "bottom": null,
            "_model_module": "@jupyter-widgets/base",
            "top": null,
            "grid_column": null,
            "overflow_y": null,
            "overflow_x": null,
            "grid_auto_flow": null,
            "grid_area": null,
            "grid_template_columns": null,
            "flex": null,
            "_model_name": "LayoutModel",
            "justify_items": null,
            "grid_row": null,
            "max_height": null,
            "align_content": null,
            "visibility": null,
            "align_self": null,
            "height": null,
            "min_height": null,
            "padding": null,
            "grid_auto_rows": null,
            "grid_gap": null,
            "max_width": null,
            "order": null,
            "_view_module_version": "1.2.0",
            "grid_template_areas": null,
            "object_position": null,
            "object_fit": null,
            "grid_auto_columns": null,
            "margin": null,
            "display": null,
            "left": null
          }
        },
        "393bd9a763fd43ab9969aab5c695bd91": {
          "model_module": "@jupyter-widgets/controls",
          "model_name": "HBoxModel",
          "state": {
            "_view_name": "HBoxView",
            "_dom_classes": [],
            "_model_name": "HBoxModel",
            "_view_module": "@jupyter-widgets/controls",
            "_model_module_version": "1.5.0",
            "_view_count": null,
            "_view_module_version": "1.5.0",
            "box_style": "",
            "layout": "IPY_MODEL_09f9cc600b814df6b10c649a9d72104f",
            "_model_module": "@jupyter-widgets/controls",
            "children": [
              "IPY_MODEL_8dce11d2ce5b4b22a36874dbfc8012fb",
              "IPY_MODEL_281fbb406788426cbdc41cbc73a55a8c"
            ]
          }
        },
        "09f9cc600b814df6b10c649a9d72104f": {
          "model_module": "@jupyter-widgets/base",
          "model_name": "LayoutModel",
          "state": {
            "_view_name": "LayoutView",
            "grid_template_rows": null,
            "right": null,
            "justify_content": null,
            "_view_module": "@jupyter-widgets/base",
            "overflow": null,
            "_model_module_version": "1.2.0",
            "_view_count": null,
            "flex_flow": null,
            "width": null,
            "min_width": null,
            "border": null,
            "align_items": null,
            "bottom": null,
            "_model_module": "@jupyter-widgets/base",
            "top": null,
            "grid_column": null,
            "overflow_y": null,
            "overflow_x": null,
            "grid_auto_flow": null,
            "grid_area": null,
            "grid_template_columns": null,
            "flex": null,
            "_model_name": "LayoutModel",
            "justify_items": null,
            "grid_row": null,
            "max_height": null,
            "align_content": null,
            "visibility": null,
            "align_self": null,
            "height": null,
            "min_height": null,
            "padding": null,
            "grid_auto_rows": null,
            "grid_gap": null,
            "max_width": null,
            "order": null,
            "_view_module_version": "1.2.0",
            "grid_template_areas": null,
            "object_position": null,
            "object_fit": null,
            "grid_auto_columns": null,
            "margin": null,
            "display": null,
            "left": null
          }
        },
        "8dce11d2ce5b4b22a36874dbfc8012fb": {
          "model_module": "@jupyter-widgets/controls",
          "model_name": "FloatProgressModel",
          "state": {
            "_view_name": "ProgressView",
            "style": "IPY_MODEL_998e666866954d7a85b2d9573eca33f0",
            "_dom_classes": [],
            "description": "Predicting: 100%",
            "_model_name": "FloatProgressModel",
            "bar_style": "success",
            "max": 9,
            "_view_module": "@jupyter-widgets/controls",
            "_model_module_version": "1.5.0",
            "value": 9,
            "_view_count": null,
            "_view_module_version": "1.5.0",
            "orientation": "horizontal",
            "min": 0,
            "description_tooltip": null,
            "_model_module": "@jupyter-widgets/controls",
            "layout": "IPY_MODEL_6fda785f132c4c21a5eabb81161cd506"
          }
        },
        "281fbb406788426cbdc41cbc73a55a8c": {
          "model_module": "@jupyter-widgets/controls",
          "model_name": "HTMLModel",
          "state": {
            "_view_name": "HTMLView",
            "style": "IPY_MODEL_7681bb6a99994ce5b2359a16777e4504",
            "_dom_classes": [],
            "description": "",
            "_model_name": "HTMLModel",
            "placeholder": "​",
            "_view_module": "@jupyter-widgets/controls",
            "_model_module_version": "1.5.0",
            "value": " 9/9 [30:11&lt;00:00, 201.29s/it]",
            "_view_count": null,
            "_view_module_version": "1.5.0",
            "description_tooltip": null,
            "_model_module": "@jupyter-widgets/controls",
            "layout": "IPY_MODEL_76b2e3cdec4146999aae0fcd34c9248c"
          }
        },
        "998e666866954d7a85b2d9573eca33f0": {
          "model_module": "@jupyter-widgets/controls",
          "model_name": "ProgressStyleModel",
          "state": {
            "_view_name": "StyleView",
            "_model_name": "ProgressStyleModel",
            "description_width": "initial",
            "_view_module": "@jupyter-widgets/base",
            "_model_module_version": "1.5.0",
            "_view_count": null,
            "_view_module_version": "1.2.0",
            "bar_color": null,
            "_model_module": "@jupyter-widgets/controls"
          }
        },
        "6fda785f132c4c21a5eabb81161cd506": {
          "model_module": "@jupyter-widgets/base",
          "model_name": "LayoutModel",
          "state": {
            "_view_name": "LayoutView",
            "grid_template_rows": null,
            "right": null,
            "justify_content": null,
            "_view_module": "@jupyter-widgets/base",
            "overflow": null,
            "_model_module_version": "1.2.0",
            "_view_count": null,
            "flex_flow": null,
            "width": null,
            "min_width": null,
            "border": null,
            "align_items": null,
            "bottom": null,
            "_model_module": "@jupyter-widgets/base",
            "top": null,
            "grid_column": null,
            "overflow_y": null,
            "overflow_x": null,
            "grid_auto_flow": null,
            "grid_area": null,
            "grid_template_columns": null,
            "flex": null,
            "_model_name": "LayoutModel",
            "justify_items": null,
            "grid_row": null,
            "max_height": null,
            "align_content": null,
            "visibility": null,
            "align_self": null,
            "height": null,
            "min_height": null,
            "padding": null,
            "grid_auto_rows": null,
            "grid_gap": null,
            "max_width": null,
            "order": null,
            "_view_module_version": "1.2.0",
            "grid_template_areas": null,
            "object_position": null,
            "object_fit": null,
            "grid_auto_columns": null,
            "margin": null,
            "display": null,
            "left": null
          }
        },
        "7681bb6a99994ce5b2359a16777e4504": {
          "model_module": "@jupyter-widgets/controls",
          "model_name": "DescriptionStyleModel",
          "state": {
            "_view_name": "StyleView",
            "_model_name": "DescriptionStyleModel",
            "description_width": "",
            "_view_module": "@jupyter-widgets/base",
            "_model_module_version": "1.5.0",
            "_view_count": null,
            "_view_module_version": "1.2.0",
            "_model_module": "@jupyter-widgets/controls"
          }
        },
        "76b2e3cdec4146999aae0fcd34c9248c": {
          "model_module": "@jupyter-widgets/base",
          "model_name": "LayoutModel",
          "state": {
            "_view_name": "LayoutView",
            "grid_template_rows": null,
            "right": null,
            "justify_content": null,
            "_view_module": "@jupyter-widgets/base",
            "overflow": null,
            "_model_module_version": "1.2.0",
            "_view_count": null,
            "flex_flow": null,
            "width": null,
            "min_width": null,
            "border": null,
            "align_items": null,
            "bottom": null,
            "_model_module": "@jupyter-widgets/base",
            "top": null,
            "grid_column": null,
            "overflow_y": null,
            "overflow_x": null,
            "grid_auto_flow": null,
            "grid_area": null,
            "grid_template_columns": null,
            "flex": null,
            "_model_name": "LayoutModel",
            "justify_items": null,
            "grid_row": null,
            "max_height": null,
            "align_content": null,
            "visibility": null,
            "align_self": null,
            "height": null,
            "min_height": null,
            "padding": null,
            "grid_auto_rows": null,
            "grid_gap": null,
            "max_width": null,
            "order": null,
            "_view_module_version": "1.2.0",
            "grid_template_areas": null,
            "object_position": null,
            "object_fit": null,
            "grid_auto_columns": null,
            "margin": null,
            "display": null,
            "left": null
          }
        },
        "77eff9b023d84c838cbd002a3367c022": {
          "model_module": "@jupyter-widgets/controls",
          "model_name": "HBoxModel",
          "state": {
            "_view_name": "HBoxView",
            "_dom_classes": [],
            "_model_name": "HBoxModel",
            "_view_module": "@jupyter-widgets/controls",
            "_model_module_version": "1.5.0",
            "_view_count": null,
            "_view_module_version": "1.5.0",
            "box_style": "",
            "layout": "IPY_MODEL_26e41cc14f2641799f17853e9f1b6143",
            "_model_module": "@jupyter-widgets/controls",
            "children": [
              "IPY_MODEL_b572e2a778aa41319b8c4a77479d54f9",
              "IPY_MODEL_4629547f9d5344ceb6d2142ebcb426c4"
            ]
          }
        },
        "26e41cc14f2641799f17853e9f1b6143": {
          "model_module": "@jupyter-widgets/base",
          "model_name": "LayoutModel",
          "state": {
            "_view_name": "LayoutView",
            "grid_template_rows": null,
            "right": null,
            "justify_content": null,
            "_view_module": "@jupyter-widgets/base",
            "overflow": null,
            "_model_module_version": "1.2.0",
            "_view_count": null,
            "flex_flow": null,
            "width": null,
            "min_width": null,
            "border": null,
            "align_items": null,
            "bottom": null,
            "_model_module": "@jupyter-widgets/base",
            "top": null,
            "grid_column": null,
            "overflow_y": null,
            "overflow_x": null,
            "grid_auto_flow": null,
            "grid_area": null,
            "grid_template_columns": null,
            "flex": null,
            "_model_name": "LayoutModel",
            "justify_items": null,
            "grid_row": null,
            "max_height": null,
            "align_content": null,
            "visibility": null,
            "align_self": null,
            "height": null,
            "min_height": null,
            "padding": null,
            "grid_auto_rows": null,
            "grid_gap": null,
            "max_width": null,
            "order": null,
            "_view_module_version": "1.2.0",
            "grid_template_areas": null,
            "object_position": null,
            "object_fit": null,
            "grid_auto_columns": null,
            "margin": null,
            "display": null,
            "left": null
          }
        },
        "b572e2a778aa41319b8c4a77479d54f9": {
          "model_module": "@jupyter-widgets/controls",
          "model_name": "FloatProgressModel",
          "state": {
            "_view_name": "ProgressView",
            "style": "IPY_MODEL_65425727fcac4aa6bca4cdc9bd316d66",
            "_dom_classes": [],
            "description": "Predicting: 100%",
            "_model_name": "FloatProgressModel",
            "bar_style": "success",
            "max": 3,
            "_view_module": "@jupyter-widgets/controls",
            "_model_module_version": "1.5.0",
            "value": 3,
            "_view_count": null,
            "_view_module_version": "1.5.0",
            "orientation": "horizontal",
            "min": 0,
            "description_tooltip": null,
            "_model_module": "@jupyter-widgets/controls",
            "layout": "IPY_MODEL_8ee286906c424a2292364b9632e24bce"
          }
        },
        "4629547f9d5344ceb6d2142ebcb426c4": {
          "model_module": "@jupyter-widgets/controls",
          "model_name": "HTMLModel",
          "state": {
            "_view_name": "HTMLView",
            "style": "IPY_MODEL_7482edad2dfc41fb8921ee5bfc04754c",
            "_dom_classes": [],
            "description": "",
            "_model_name": "HTMLModel",
            "placeholder": "​",
            "_view_module": "@jupyter-widgets/controls",
            "_model_module_version": "1.5.0",
            "value": " 3/3 [29:58&lt;00:00, 599.54s/it]",
            "_view_count": null,
            "_view_module_version": "1.5.0",
            "description_tooltip": null,
            "_model_module": "@jupyter-widgets/controls",
            "layout": "IPY_MODEL_3e407a6fb77b483e82da8c24cd8b30a0"
          }
        },
        "65425727fcac4aa6bca4cdc9bd316d66": {
          "model_module": "@jupyter-widgets/controls",
          "model_name": "ProgressStyleModel",
          "state": {
            "_view_name": "StyleView",
            "_model_name": "ProgressStyleModel",
            "description_width": "initial",
            "_view_module": "@jupyter-widgets/base",
            "_model_module_version": "1.5.0",
            "_view_count": null,
            "_view_module_version": "1.2.0",
            "bar_color": null,
            "_model_module": "@jupyter-widgets/controls"
          }
        },
        "8ee286906c424a2292364b9632e24bce": {
          "model_module": "@jupyter-widgets/base",
          "model_name": "LayoutModel",
          "state": {
            "_view_name": "LayoutView",
            "grid_template_rows": null,
            "right": null,
            "justify_content": null,
            "_view_module": "@jupyter-widgets/base",
            "overflow": null,
            "_model_module_version": "1.2.0",
            "_view_count": null,
            "flex_flow": null,
            "width": null,
            "min_width": null,
            "border": null,
            "align_items": null,
            "bottom": null,
            "_model_module": "@jupyter-widgets/base",
            "top": null,
            "grid_column": null,
            "overflow_y": null,
            "overflow_x": null,
            "grid_auto_flow": null,
            "grid_area": null,
            "grid_template_columns": null,
            "flex": null,
            "_model_name": "LayoutModel",
            "justify_items": null,
            "grid_row": null,
            "max_height": null,
            "align_content": null,
            "visibility": null,
            "align_self": null,
            "height": null,
            "min_height": null,
            "padding": null,
            "grid_auto_rows": null,
            "grid_gap": null,
            "max_width": null,
            "order": null,
            "_view_module_version": "1.2.0",
            "grid_template_areas": null,
            "object_position": null,
            "object_fit": null,
            "grid_auto_columns": null,
            "margin": null,
            "display": null,
            "left": null
          }
        },
        "7482edad2dfc41fb8921ee5bfc04754c": {
          "model_module": "@jupyter-widgets/controls",
          "model_name": "DescriptionStyleModel",
          "state": {
            "_view_name": "StyleView",
            "_model_name": "DescriptionStyleModel",
            "description_width": "",
            "_view_module": "@jupyter-widgets/base",
            "_model_module_version": "1.5.0",
            "_view_count": null,
            "_view_module_version": "1.2.0",
            "_model_module": "@jupyter-widgets/controls"
          }
        },
        "3e407a6fb77b483e82da8c24cd8b30a0": {
          "model_module": "@jupyter-widgets/base",
          "model_name": "LayoutModel",
          "state": {
            "_view_name": "LayoutView",
            "grid_template_rows": null,
            "right": null,
            "justify_content": null,
            "_view_module": "@jupyter-widgets/base",
            "overflow": null,
            "_model_module_version": "1.2.0",
            "_view_count": null,
            "flex_flow": null,
            "width": null,
            "min_width": null,
            "border": null,
            "align_items": null,
            "bottom": null,
            "_model_module": "@jupyter-widgets/base",
            "top": null,
            "grid_column": null,
            "overflow_y": null,
            "overflow_x": null,
            "grid_auto_flow": null,
            "grid_area": null,
            "grid_template_columns": null,
            "flex": null,
            "_model_name": "LayoutModel",
            "justify_items": null,
            "grid_row": null,
            "max_height": null,
            "align_content": null,
            "visibility": null,
            "align_self": null,
            "height": null,
            "min_height": null,
            "padding": null,
            "grid_auto_rows": null,
            "grid_gap": null,
            "max_width": null,
            "order": null,
            "_view_module_version": "1.2.0",
            "grid_template_areas": null,
            "object_position": null,
            "object_fit": null,
            "grid_auto_columns": null,
            "margin": null,
            "display": null,
            "left": null
          }
        }
      }
    }
  },
  "cells": [
    {
      "cell_type": "code",
      "metadata": {
        "colab": {
          "base_uri": "https://localhost:8080/"
        },
        "id": "cZVcyiOaSf_4",
        "outputId": "bfc39640-ad56-4b4b-b5f2-824826b8821c"
      },
      "source": [
        "!git clone -b master https://github.com/charles9n/bert-sklearn\n",
        "!cd bert-sklearn; pip install ."
      ],
      "execution_count": null,
      "outputs": [
        {
          "output_type": "stream",
          "text": [
            "Cloning into 'bert-sklearn'...\n",
            "remote: Enumerating objects: 259, done.\u001b[K\n",
            "remote: Total 259 (delta 0), reused 0 (delta 0), pack-reused 259\u001b[K\n",
            "Receiving objects: 100% (259/259), 516.15 KiB | 12.90 MiB/s, done.\n",
            "Resolving deltas: 100% (131/131), done.\n",
            "Processing /content/bert-sklearn\n",
            "Requirement already satisfied: torch>=0.4.1 in /usr/local/lib/python3.7/dist-packages (from bert-sklearn==0.3.1) (1.9.0+cu102)\n",
            "Requirement already satisfied: scikit-learn in /usr/local/lib/python3.7/dist-packages (from bert-sklearn==0.3.1) (0.22.2.post1)\n",
            "Requirement already satisfied: numpy in /usr/local/lib/python3.7/dist-packages (from bert-sklearn==0.3.1) (1.19.5)\n",
            "Requirement already satisfied: pandas in /usr/local/lib/python3.7/dist-packages (from bert-sklearn==0.3.1) (1.1.5)\n",
            "Collecting boto3\n",
            "\u001b[?25l  Downloading https://files.pythonhosted.org/packages/7a/65/c5fa632ca1c243d0f757c09cc4656f361dc1a9555f0b6d442e374f7ca8f6/boto3-1.17.109-py2.py3-none-any.whl (131kB)\n",
            "\u001b[K     |████████████████████████████████| 133kB 7.6MB/s \n",
            "\u001b[?25hRequirement already satisfied: requests in /usr/local/lib/python3.7/dist-packages (from bert-sklearn==0.3.1) (2.23.0)\n",
            "Requirement already satisfied: tqdm in /usr/local/lib/python3.7/dist-packages (from bert-sklearn==0.3.1) (4.41.1)\n",
            "Requirement already satisfied: typing-extensions in /usr/local/lib/python3.7/dist-packages (from torch>=0.4.1->bert-sklearn==0.3.1) (3.7.4.3)\n",
            "Requirement already satisfied: scipy>=0.17.0 in /usr/local/lib/python3.7/dist-packages (from scikit-learn->bert-sklearn==0.3.1) (1.4.1)\n",
            "Requirement already satisfied: joblib>=0.11 in /usr/local/lib/python3.7/dist-packages (from scikit-learn->bert-sklearn==0.3.1) (1.0.1)\n",
            "Requirement already satisfied: pytz>=2017.2 in /usr/local/lib/python3.7/dist-packages (from pandas->bert-sklearn==0.3.1) (2018.9)\n",
            "Requirement already satisfied: python-dateutil>=2.7.3 in /usr/local/lib/python3.7/dist-packages (from pandas->bert-sklearn==0.3.1) (2.8.1)\n",
            "Collecting s3transfer<0.5.0,>=0.4.0\n",
            "\u001b[?25l  Downloading https://files.pythonhosted.org/packages/63/d0/693477c688348654ddc21dcdce0817653a294aa43f41771084c25e7ff9c7/s3transfer-0.4.2-py2.py3-none-any.whl (79kB)\n",
            "\u001b[K     |████████████████████████████████| 81kB 9.5MB/s \n",
            "\u001b[?25hCollecting botocore<1.21.0,>=1.20.109\n",
            "\u001b[?25l  Downloading https://files.pythonhosted.org/packages/07/53/779ef784d896647f53e629143b5002adee52ea4574aa3dfaa8a9fe322c92/botocore-1.20.109-py2.py3-none-any.whl (7.7MB)\n",
            "\u001b[K     |████████████████████████████████| 7.7MB 48.0MB/s \n",
            "\u001b[?25hCollecting jmespath<1.0.0,>=0.7.1\n",
            "  Downloading https://files.pythonhosted.org/packages/07/cb/5f001272b6faeb23c1c9e0acc04d48eaaf5c862c17709d20e3469c6e0139/jmespath-0.10.0-py2.py3-none-any.whl\n",
            "Requirement already satisfied: urllib3!=1.25.0,!=1.25.1,<1.26,>=1.21.1 in /usr/local/lib/python3.7/dist-packages (from requests->bert-sklearn==0.3.1) (1.24.3)\n",
            "Requirement already satisfied: chardet<4,>=3.0.2 in /usr/local/lib/python3.7/dist-packages (from requests->bert-sklearn==0.3.1) (3.0.4)\n",
            "Requirement already satisfied: certifi>=2017.4.17 in /usr/local/lib/python3.7/dist-packages (from requests->bert-sklearn==0.3.1) (2021.5.30)\n",
            "Requirement already satisfied: idna<3,>=2.5 in /usr/local/lib/python3.7/dist-packages (from requests->bert-sklearn==0.3.1) (2.10)\n",
            "Requirement already satisfied: six>=1.5 in /usr/local/lib/python3.7/dist-packages (from python-dateutil>=2.7.3->pandas->bert-sklearn==0.3.1) (1.15.0)\n",
            "Building wheels for collected packages: bert-sklearn\n",
            "  Building wheel for bert-sklearn (setup.py) ... \u001b[?25l\u001b[?25hdone\n",
            "  Created wheel for bert-sklearn: filename=bert_sklearn-0.3.1-cp37-none-any.whl size=54248 sha256=9093ecbffcf643f71ac7ae6910f72f51d895d8e2581504ff0aae10ece0119a3e\n",
            "  Stored in directory: /root/.cache/pip/wheels/61/95/c6/5790aae8fb377f5ff356dbe58205aab28858595d6bff8197d0\n",
            "Successfully built bert-sklearn\n",
            "\u001b[31mERROR: botocore 1.20.109 has requirement urllib3<1.27,>=1.25.4, but you'll have urllib3 1.24.3 which is incompatible.\u001b[0m\n",
            "Installing collected packages: jmespath, botocore, s3transfer, boto3, bert-sklearn\n",
            "Successfully installed bert-sklearn-0.3.1 boto3-1.17.109 botocore-1.20.109 jmespath-0.10.0 s3transfer-0.4.2\n"
          ],
          "name": "stdout"
        }
      ]
    },
    {
      "cell_type": "code",
      "metadata": {
        "id": "LEj8DBTeSjU3"
      },
      "source": [
        "import pandas as pd\n",
        "import numpy as np\n",
        "from sklearn.metrics import classification_report\n",
        "from sklearn.metrics import confusion_matrix\n",
        "from sklearn.model_selection import train_test_split\n",
        "from bert_sklearn import BertClassifier"
      ],
      "execution_count": null,
      "outputs": []
    },
    {
      "cell_type": "code",
      "metadata": {
        "colab": {
          "base_uri": "https://localhost:8080/",
          "height": 415
        },
        "id": "DgfsZf-BTAoY",
        "outputId": "30cb22b9-7aab-4c0f-a6f1-bc194d623315"
      },
      "source": [
        "df = pd.read_csv('https://raw.githubusercontent.com/aatishsuman/velocityEHS-system-design/master/review.csv')\n",
        "df"
      ],
      "execution_count": null,
      "outputs": [
        {
          "output_type": "execute_result",
          "data": {
            "text/html": [
              "<div>\n",
              "<style scoped>\n",
              "    .dataframe tbody tr th:only-of-type {\n",
              "        vertical-align: middle;\n",
              "    }\n",
              "\n",
              "    .dataframe tbody tr th {\n",
              "        vertical-align: top;\n",
              "    }\n",
              "\n",
              "    .dataframe thead th {\n",
              "        text-align: right;\n",
              "    }\n",
              "</style>\n",
              "<table border=\"1\" class=\"dataframe\">\n",
              "  <thead>\n",
              "    <tr style=\"text-align: right;\">\n",
              "      <th></th>\n",
              "      <th>Condition Number</th>\n",
              "      <th>Condition Text</th>\n",
              "      <th>Classification</th>\n",
              "      <th>Requirement Description</th>\n",
              "      <th>Requirement Name</th>\n",
              "      <th>Referable Conditions</th>\n",
              "    </tr>\n",
              "  </thead>\n",
              "  <tbody>\n",
              "    <tr>\n",
              "      <th>0</th>\n",
              "      <td>1.</td>\n",
              "      <td>Point of emissions and applicable emission lim...</td>\n",
              "      <td>DSC</td>\n",
              "      <td>NaN</td>\n",
              "      <td>NaN</td>\n",
              "      <td>NaN</td>\n",
              "    </tr>\n",
              "    <tr>\n",
              "      <th>1</th>\n",
              "      <td>1.1.</td>\n",
              "      <td>EUG 1 Plant-wide This EUG is established to ad...</td>\n",
              "      <td>DSC</td>\n",
              "      <td>NaN</td>\n",
              "      <td>NaN</td>\n",
              "      <td>NaN</td>\n",
              "    </tr>\n",
              "    <tr>\n",
              "      <th>2</th>\n",
              "      <td>1.2.</td>\n",
              "      <td>EUG 2 Package Boilers</td>\n",
              "      <td>DSC</td>\n",
              "      <td></td>\n",
              "      <td>NaN</td>\n",
              "      <td>NaN</td>\n",
              "    </tr>\n",
              "    <tr>\n",
              "      <th>3</th>\n",
              "      <td>1.2.A.</td>\n",
              "      <td>Fuel usage of the boilers shall not exceed a t...</td>\n",
              "      <td>REQ</td>\n",
              "      <td>Fuel usage of the boilers shall not exceed a t...</td>\n",
              "      <td>1.2.A.</td>\n",
              "      <td>1., 1.2., 1.2.A.</td>\n",
              "    </tr>\n",
              "    <tr>\n",
              "      <th>4</th>\n",
              "      <td>1.2.B.</td>\n",
              "      <td>These boilers are affected facilities under 40...</td>\n",
              "      <td>REQ</td>\n",
              "      <td>These boilers are affected facilities under 40...</td>\n",
              "      <td>1.2.B.</td>\n",
              "      <td>1., 1.2., 1.2.B.</td>\n",
              "    </tr>\n",
              "    <tr>\n",
              "      <th>...</th>\n",
              "      <td>...</td>\n",
              "      <td>...</td>\n",
              "      <td>...</td>\n",
              "      <td>...</td>\n",
              "      <td>...</td>\n",
              "      <td>...</td>\n",
              "    </tr>\n",
              "    <tr>\n",
              "      <th>91</th>\n",
              "      <td>1.8.A.</td>\n",
              "      <td>The permittee shall monitor and record natural...</td>\n",
              "      <td>REQ</td>\n",
              "      <td>The permittee shall monitor and record natural...</td>\n",
              "      <td>1.8.A.</td>\n",
              "      <td>1., 1.8., 1.8.A.</td>\n",
              "    </tr>\n",
              "    <tr>\n",
              "      <th>92</th>\n",
              "      <td>1.8.B.</td>\n",
              "      <td>Plant #2 is subject to the emission limitation...</td>\n",
              "      <td>DSC</td>\n",
              "      <td>NaN</td>\n",
              "      <td>NaN</td>\n",
              "      <td>NaN</td>\n",
              "    </tr>\n",
              "    <tr>\n",
              "      <th>93</th>\n",
              "      <td>1.8.C.</td>\n",
              "      <td>Reference Method performance testing of all po...</td>\n",
              "      <td>REQ</td>\n",
              "      <td>Reference Method performance testing of all po...</td>\n",
              "      <td>1.8.C.</td>\n",
              "      <td>1., 1.8., 1.8.C.</td>\n",
              "    </tr>\n",
              "    <tr>\n",
              "      <th>94</th>\n",
              "      <td>1.9.</td>\n",
              "      <td>EUG 9 Ammonia Plant Start-up and Shutdown Vent...</td>\n",
              "      <td>REQ</td>\n",
              "      <td>EUG 9 Ammonia Plant Start-up and Shutdown Vent...</td>\n",
              "      <td>1.9.</td>\n",
              "      <td>1., 1.9.</td>\n",
              "    </tr>\n",
              "    <tr>\n",
              "      <th>95</th>\n",
              "      <td>1.10.</td>\n",
              "      <td>EUG 10 Vents The VOC shown in the immediately ...</td>\n",
              "      <td>DSC</td>\n",
              "      <td>NaN</td>\n",
              "      <td>NaN</td>\n",
              "      <td>NaN</td>\n",
              "    </tr>\n",
              "  </tbody>\n",
              "</table>\n",
              "<p>96 rows × 6 columns</p>\n",
              "</div>"
            ],
            "text/plain": [
              "   Condition Number  ... Referable Conditions\n",
              "0                1.  ...                  NaN\n",
              "1              1.1.  ...                  NaN\n",
              "2              1.2.  ...                  NaN\n",
              "3            1.2.A.  ...     1., 1.2., 1.2.A.\n",
              "4            1.2.B.  ...     1., 1.2., 1.2.B.\n",
              "..              ...  ...                  ...\n",
              "91           1.8.A.  ...     1., 1.8., 1.8.A.\n",
              "92           1.8.B.  ...                  NaN\n",
              "93           1.8.C.  ...     1., 1.8., 1.8.C.\n",
              "94             1.9.  ...             1., 1.9.\n",
              "95            1.10.  ...                  NaN\n",
              "\n",
              "[96 rows x 6 columns]"
            ]
          },
          "metadata": {
            "tags": []
          },
          "execution_count": 11
        }
      ]
    },
    {
      "cell_type": "code",
      "metadata": {
        "colab": {
          "base_uri": "https://localhost:8080/"
        },
        "id": "5GHamg5DfdvW",
        "outputId": "116ec3d8-ecbc-41c7-ecff-63c15a516e28"
      },
      "source": [
        "# splitting the data into train and test splits (0.75 / 0.25)\n",
        "X_train, X_test, y_train, y_test = train_test_split(df['Condition Text'], df['Classification'], test_size=0.25, random_state=42)\n",
        "# Printing the distribution across the classes for all, train and test data\n",
        "print(df['Classification'].value_counts())\n",
        "print(y_train.value_counts())\n",
        "print(y_test.value_counts())"
      ],
      "execution_count": null,
      "outputs": [
        {
          "output_type": "stream",
          "text": [
            "REQ    61\n",
            "DSC    32\n",
            "RAE     3\n",
            "Name: Classification, dtype: int64\n",
            "REQ    43\n",
            "DSC    28\n",
            "RAE     1\n",
            "Name: Classification, dtype: int64\n",
            "REQ    18\n",
            "DSC     4\n",
            "RAE     2\n",
            "Name: Classification, dtype: int64\n"
          ],
          "name": "stdout"
        }
      ]
    },
    {
      "cell_type": "code",
      "metadata": {
        "colab": {
          "base_uri": "https://localhost:8080/",
          "height": 653,
          "referenced_widgets": [
            "5c483b59b516483c859c7b9a424fbc92",
            "c759ef2ff3ac4619b49f611335f23502",
            "bbe5a8c038cf4c1d9d59bc6752f54895",
            "6e6584769c594a66a8756b57396fab38",
            "148c4c80b22b46e7b39dcf124e2d0ddb",
            "5353b28cdc7d4fa5bdc8d29f58ffd351",
            "c3975981a43044bb834cc7c2d45e3280",
            "aa63f5c021b148489ca004a579f4c9bd",
            "d89551344e844ea588c30004610bf95c",
            "fae660e09ec84e90919e5f193c03ffbf",
            "6bf322f9ebbd420ead95a578d50c7b1c",
            "597424daeb5b43c8a23842460152f91d",
            "bc8743711c33442e803bad030f0dfda3",
            "0f40d93420944075b793a1fb344a9d13",
            "e324e9d29aee4ccd8527ee86d10629e8",
            "b079587cb05c489faa3abc07a525683a",
            "8e85088d55804e1f9e303d026cb28ac6",
            "08d4334b0e3944d6883ad95c128bf0d3",
            "fbb3740da1b74841b22dd895e1f9d02b",
            "124fe331f9df475081d54cb3e9a5d5c3",
            "744ddbe869de47c8bdeb1399c94eabc3",
            "bfc824297b85459989c672d727ea1aff",
            "168d30973bc041d29490508769743db2",
            "7f3c52d365204b28b11b0dca3ef40063"
          ]
        },
        "id": "ysvd8NiIUH_O",
        "outputId": "dda860c3-e388-4918-9688-2dd49cad1cb3"
      },
      "source": [
        "# trying the BioBERT-based model as the dataset contains technical langauge\n",
        "model = BertClassifier(bert_model='biobert-base-cased', random_state=42, validation_fraction=0)\n",
        "print(model)\n",
        "model.fit(X_train, y_train)"
      ],
      "execution_count": null,
      "outputs": [
        {
          "output_type": "stream",
          "text": [
            "Building sklearn text classifier...\n",
            "BertClassifier(bert_config_json=None, bert_model='biobert-base-cased',\n",
            "               bert_vocab=None, do_lower_case=None, epochs=3, eval_batch_size=8,\n",
            "               fp16=False, from_tf=False, gradient_accumulation_steps=1,\n",
            "               ignore_label=None, label_list=None, learning_rate=2e-05,\n",
            "               local_rank=-1, logfile='bert_sklearn.log', loss_scale=0,\n",
            "               max_seq_length=128, num_mlp_hiddens=500, num_mlp_layers=0,\n",
            "               random_state=42, restore_file=None, train_batch_size=32,\n",
            "               use_cuda=True, validation_fraction=0, warmup_proportion=0.1)\n",
            "Loading biobert-base-cased model...\n",
            "Defaulting to linear classifier/regressor\n",
            "Loading Tensorflow checkpoint from  model.ckpt-1000000\n",
            "\n",
            "train data size: 72, validation data size: 0\n",
            "\n"
          ],
          "name": "stdout"
        },
        {
          "output_type": "stream",
          "text": [
            "/usr/local/lib/python3.7/dist-packages/torch/utils/data/dataloader.py:481: UserWarning: This DataLoader will create 5 worker processes in total. Our suggested max number of worker in current system is 2, which is smaller than what this DataLoader is going to create. Please be aware that excessive worker creation might get DataLoader running slow or even freeze, lower the worker number to avoid potential slowness/freeze if necessary.\n",
            "  cpuset_checked))\n"
          ],
          "name": "stderr"
        },
        {
          "output_type": "display_data",
          "data": {
            "application/vnd.jupyter.widget-view+json": {
              "model_id": "5c483b59b516483c859c7b9a424fbc92",
              "version_minor": 0,
              "version_major": 2
            },
            "text/plain": [
              "HBox(children=(FloatProgress(value=0.0, description='Training  ', max=3.0, style=ProgressStyle(description_wid…"
            ]
          },
          "metadata": {
            "tags": []
          }
        },
        {
          "output_type": "stream",
          "text": [
            "\n"
          ],
          "name": "stdout"
        },
        {
          "output_type": "display_data",
          "data": {
            "application/vnd.jupyter.widget-view+json": {
              "model_id": "d89551344e844ea588c30004610bf95c",
              "version_minor": 0,
              "version_major": 2
            },
            "text/plain": [
              "HBox(children=(FloatProgress(value=0.0, description='Training  ', max=3.0, style=ProgressStyle(description_wid…"
            ]
          },
          "metadata": {
            "tags": []
          }
        },
        {
          "output_type": "stream",
          "text": [
            "\n"
          ],
          "name": "stdout"
        },
        {
          "output_type": "display_data",
          "data": {
            "application/vnd.jupyter.widget-view+json": {
              "model_id": "8e85088d55804e1f9e303d026cb28ac6",
              "version_minor": 0,
              "version_major": 2
            },
            "text/plain": [
              "HBox(children=(FloatProgress(value=0.0, description='Training  ', max=3.0, style=ProgressStyle(description_wid…"
            ]
          },
          "metadata": {
            "tags": []
          }
        },
        {
          "output_type": "stream",
          "text": [
            "\n"
          ],
          "name": "stdout"
        },
        {
          "output_type": "execute_result",
          "data": {
            "text/plain": [
              "BertClassifier(bert_config_json=None, bert_model='biobert-base-cased',\n",
              "               bert_vocab=None, do_lower_case=False, epochs=3,\n",
              "               eval_batch_size=8, fp16=False, from_tf=False,\n",
              "               gradient_accumulation_steps=1, ignore_label=None,\n",
              "               label_list=array(['DSC', 'RAE', 'REQ'], dtype=object),\n",
              "               learning_rate=2e-05, local_rank=-1, logfile='bert_sklearn.log',\n",
              "               loss_scale=0, max_seq_length=128, num_mlp_hiddens=500,\n",
              "               num_mlp_layers=0, random_state=42, restore_file=None,\n",
              "               train_batch_size=32, use_cuda=True, validation_fraction=0,\n",
              "               warmup_proportion=0.1)"
            ]
          },
          "metadata": {
            "tags": []
          },
          "execution_count": 41
        }
      ]
    },
    {
      "cell_type": "code",
      "metadata": {
        "colab": {
          "base_uri": "https://localhost:8080/",
          "height": 433,
          "referenced_widgets": [
            "393bd9a763fd43ab9969aab5c695bd91",
            "09f9cc600b814df6b10c649a9d72104f",
            "8dce11d2ce5b4b22a36874dbfc8012fb",
            "281fbb406788426cbdc41cbc73a55a8c",
            "998e666866954d7a85b2d9573eca33f0",
            "6fda785f132c4c21a5eabb81161cd506",
            "7681bb6a99994ce5b2359a16777e4504",
            "76b2e3cdec4146999aae0fcd34c9248c"
          ]
        },
        "id": "UwdMTFyiU8Gx",
        "outputId": "9f6018d9-b07e-467b-c266-6005908fb857"
      },
      "source": [
        "# training data results\n",
        "X_train_pred = model.predict(X_train)\n",
        "print('Train classification report:\\n', classification_report(y_train, X_train_pred, target_names=['DSC', 'RAE', 'REQ']), '\\n')\n",
        "print('Confusion matrix -\\n', confusion_matrix(y_train, X_train_pred, labels=['DSC', 'RAE', 'REQ']))"
      ],
      "execution_count": null,
      "outputs": [
        {
          "output_type": "stream",
          "text": [
            "/usr/local/lib/python3.7/dist-packages/torch/utils/data/dataloader.py:481: UserWarning: This DataLoader will create 5 worker processes in total. Our suggested max number of worker in current system is 2, which is smaller than what this DataLoader is going to create. Please be aware that excessive worker creation might get DataLoader running slow or even freeze, lower the worker number to avoid potential slowness/freeze if necessary.\n",
            "  cpuset_checked))\n"
          ],
          "name": "stderr"
        },
        {
          "output_type": "display_data",
          "data": {
            "application/vnd.jupyter.widget-view+json": {
              "model_id": "393bd9a763fd43ab9969aab5c695bd91",
              "version_minor": 0,
              "version_major": 2
            },
            "text/plain": [
              "HBox(children=(FloatProgress(value=0.0, description='Predicting', max=9.0, style=ProgressStyle(description_wid…"
            ]
          },
          "metadata": {
            "tags": []
          }
        },
        {
          "output_type": "stream",
          "text": [
            "\n",
            "Train classification report:\n",
            "               precision    recall  f1-score   support\n",
            "\n",
            "         DSC       1.00      0.86      0.92        28\n",
            "         RAE       0.00      0.00      0.00         1\n",
            "         REQ       0.90      1.00      0.95        43\n",
            "\n",
            "    accuracy                           0.93        72\n",
            "   macro avg       0.63      0.62      0.62        72\n",
            "weighted avg       0.92      0.93      0.92        72\n",
            " \n",
            "\n",
            "Confusion matrix -\n",
            " [[24  0  4]\n",
            " [ 0  0  1]\n",
            " [ 0  0 43]]\n"
          ],
          "name": "stdout"
        },
        {
          "output_type": "stream",
          "text": [
            "/usr/local/lib/python3.7/dist-packages/sklearn/metrics/_classification.py:1272: UndefinedMetricWarning: Precision and F-score are ill-defined and being set to 0.0 in labels with no predicted samples. Use `zero_division` parameter to control this behavior.\n",
            "  _warn_prf(average, modifier, msg_start, len(result))\n"
          ],
          "name": "stderr"
        }
      ]
    },
    {
      "cell_type": "code",
      "metadata": {
        "colab": {
          "base_uri": "https://localhost:8080/",
          "height": 433,
          "referenced_widgets": [
            "77eff9b023d84c838cbd002a3367c022",
            "26e41cc14f2641799f17853e9f1b6143",
            "b572e2a778aa41319b8c4a77479d54f9",
            "4629547f9d5344ceb6d2142ebcb426c4",
            "65425727fcac4aa6bca4cdc9bd316d66",
            "8ee286906c424a2292364b9632e24bce",
            "7482edad2dfc41fb8921ee5bfc04754c",
            "3e407a6fb77b483e82da8c24cd8b30a0"
          ]
        },
        "id": "32qS7HlDi1CG",
        "outputId": "9e0132a6-4054-4b33-8e48-6e12e4414c00"
      },
      "source": [
        "# test data results\n",
        "X_test_pred = model.predict(X_test)\n",
        "print('Test classification report:\\n', classification_report(y_test, X_test_pred, target_names=['DSC', 'RAE', 'REQ']), '\\n')\n",
        "print('Confusion matrix -\\n', confusion_matrix(y_test, X_test_pred, labels=['DSC', 'RAE', 'REQ']))"
      ],
      "execution_count": null,
      "outputs": [
        {
          "output_type": "stream",
          "text": [
            "/usr/local/lib/python3.7/dist-packages/torch/utils/data/dataloader.py:481: UserWarning: This DataLoader will create 5 worker processes in total. Our suggested max number of worker in current system is 2, which is smaller than what this DataLoader is going to create. Please be aware that excessive worker creation might get DataLoader running slow or even freeze, lower the worker number to avoid potential slowness/freeze if necessary.\n",
            "  cpuset_checked))\n"
          ],
          "name": "stderr"
        },
        {
          "output_type": "display_data",
          "data": {
            "application/vnd.jupyter.widget-view+json": {
              "model_id": "77eff9b023d84c838cbd002a3367c022",
              "version_minor": 0,
              "version_major": 2
            },
            "text/plain": [
              "HBox(children=(FloatProgress(value=0.0, description='Predicting', max=3.0, style=ProgressStyle(description_wid…"
            ]
          },
          "metadata": {
            "tags": []
          }
        },
        {
          "output_type": "stream",
          "text": [
            "\n",
            "Test classification report:\n",
            "               precision    recall  f1-score   support\n",
            "\n",
            "         DSC       1.00      0.75      0.86         4\n",
            "         RAE       0.00      0.00      0.00         2\n",
            "         REQ       0.86      1.00      0.92        18\n",
            "\n",
            "    accuracy                           0.88        24\n",
            "   macro avg       0.62      0.58      0.59        24\n",
            "weighted avg       0.81      0.88      0.84        24\n",
            " \n",
            "\n",
            "Confusion matrix -\n",
            " [[ 3  0  1]\n",
            " [ 0  0  2]\n",
            " [ 0  0 18]]\n"
          ],
          "name": "stdout"
        },
        {
          "output_type": "stream",
          "text": [
            "/usr/local/lib/python3.7/dist-packages/sklearn/metrics/_classification.py:1272: UndefinedMetricWarning: Precision and F-score are ill-defined and being set to 0.0 in labels with no predicted samples. Use `zero_division` parameter to control this behavior.\n",
            "  _warn_prf(average, modifier, msg_start, len(result))\n"
          ],
          "name": "stderr"
        }
      ]
    },
    {
      "cell_type": "code",
      "metadata": {
        "colab": {
          "base_uri": "https://localhost:8080/"
        },
        "id": "dtjkvbUYdrDo",
        "outputId": "301f6569-0751-4c3c-8a92-7915c2c2a445"
      },
      "source": [
        "# DSC predicted as REQ in training data\n",
        "list(X_train[(y_train == 'DSC') & (X_train_pred == 'REQ')])"
      ],
      "execution_count": null,
      "outputs": [
        {
          "output_type": "execute_result",
          "data": {
            "text/plain": [
              "['Definitions.  Terms used in this CEMS Plan that are defined in the Clean Air Act (CAA) or in federal or state regulations promulgated pursuant to the CAA shall have the meaning assigned to them in the CAA or such regulations, unless otherwise defined in the CD. The terms used in this CEMS Plan that are defined in the CD shall have the meaning assigned to them therein. The following definitions specifically apply for purposes of this CEMS Plan.',\n",
              " 'Monitoring of fuel sulfur content is not required when a gaseous fuel is fired in the turbine and the owner or operator demonstrates that the gaseous fuel meets the definition of \"natural gas\" using one of the methods in $60.334(h)(3)(i) or (ii). Paragraph 60.331 defines natural gas as containing 20 grains or less of total sulfur per 100 standard cubic feet and is either composed of at least 70 percent methane by volume or has a gross caloric value between 950 and 1100 BTU/scf. [40 CFR60.334(h)(3)]',\n",
              " 'Principles.  This CEMS Plan is the mechanism for determining compliance with the short- term and long-term NOx limits applicable to each covered nitric acid plant and is used to evaluate the compliance status with the NSPS NOx limits. The methodology described in this CEMS Plan will provide a continuous indication of compliance with these limits by accurately determining the emission rate in terms of pounds of NOx emitted per ton of 100% nitric acid produced (lb/ton) as a rolling 3-hour average and as a rolling 365-day average The CEMS will utilize equipment to measure stack NOx concentration and the stack volumetric flow rate From these data, real-time, accurate, and quality controlled measurements of the mass NOx emission rate can be obtained.',\n",
              " 'Plant #2 is subject to the emission limitations listed on the second line of the preceding table (10291e) until completion of the burner replacement project authorized by modified permit 2006-003-TVR (M-8). Upon completion of these projects, Plant #2 will be subject to the emission limitations listed in the third line of the table (10291p).']"
            ]
          },
          "metadata": {
            "tags": []
          },
          "execution_count": 44
        }
      ]
    },
    {
      "cell_type": "code",
      "metadata": {
        "colab": {
          "base_uri": "https://localhost:8080/"
        },
        "id": "XCm10LdVlxtf",
        "outputId": "580e1aea-fcba-48cd-9dba-ba8d2e0754c9"
      },
      "source": [
        "# DSC predicted as REQ in test data\n",
        "list(X_test[(y_test == 'DSC') & (X_test_pred == 'REQ')])"
      ],
      "execution_count": null,
      "outputs": [
        {
          "output_type": "execute_result",
          "data": {
            "text/plain": [
              "['The CD established a CEMS Monitoring Plan that consists of sections titled: Principles; Definitions; Emissions Monitoring; Production Data; Conversion Factor; Emissions Calculations; Rounding of Numbers resulting from Calculations; Compliance with Consent Decree NOx Limits; Retention of All CEMS Data, including Data during Startup, Shutdown, and Malfunction; Analyzer Specifications; and Compliance with NSPS 40 CFR60, Subpart G. Each of these sections is described in the following paragraphs.']"
            ]
          },
          "metadata": {
            "tags": []
          },
          "execution_count": 45
        }
      ]
    },
    {
      "cell_type": "markdown",
      "metadata": {
        "id": "LSG62wVZWQV9"
      },
      "source": [
        "## Error analysis\n",
        "\n",
        "The errors occur mostly due the small size of the dataset. <br/>\n",
        "\n",
        "For RAE classified as REQ, presence of linguistic cues like 'shall not', 'will be' and 'shall be', which are characteristic of the REQ class, causes the errors. The RAE instances can be differentiated from the REQ ones by the presence of other linguistic cues like 'following', which the model can learn with more data but 3 instances are not enough to identify this pattern. <br/>\n",
        "\n",
        "For DSC classified as REQ also, the presence of linguistic cues like 'shall have', 'subject to', 'will', etc. causes the errors. There are other significant differences between the contents of the 2 classes which the model should be able to learn with more data.  "
      ]
    },
    {
      "cell_type": "code",
      "metadata": {
        "id": "WUxothCCGjBZ"
      },
      "source": [
        "# replacing NA values with ''\n",
        "df.fillna(value='', inplace=True)"
      ],
      "execution_count": null,
      "outputs": []
    },
    {
      "cell_type": "code",
      "metadata": {
        "id": "302wKSG7tqYl"
      },
      "source": [
        "# given a row, returns the Referable Conditions for the row\n",
        "def getReferableConditions(row):\n",
        "  conditions = []\n",
        "  if row['Classification'] == 'DSC':\n",
        "    return ''\n",
        "  if row['Classification'] == 'REQ' or row['Classification'] == 'RAE':\n",
        "    index_list = row['Condition Number'].split('.')\n",
        "    for i in range(1, len(index_list)):\n",
        "      conditions.append('.'.join(index_list[0:i]) + '.')\n",
        "  if row['Classification'] == 'RAE':\n",
        "    conditions += list(df['Condition Number'][row['Condition Number'] == df['Condition Number'].astype(str).apply(lambda e: '.'.join(e.split('.')[:-2]) + '.')])\n",
        "  return ', '.join(conditions)"
      ],
      "execution_count": null,
      "outputs": []
    },
    {
      "cell_type": "code",
      "metadata": {
        "colab": {
          "base_uri": "https://localhost:8080/",
          "height": 48
        },
        "id": "Gs1B1hMgzLuj",
        "outputId": "c8720161-82b8-4b3d-a4f7-355c8b41c046"
      },
      "source": [
        "df[df.apply(getReferableConditions, axis=1) != df['Referable Conditions']]"
      ],
      "execution_count": null,
      "outputs": [
        {
          "output_type": "execute_result",
          "data": {
            "text/html": [
              "<div>\n",
              "<style scoped>\n",
              "    .dataframe tbody tr th:only-of-type {\n",
              "        vertical-align: middle;\n",
              "    }\n",
              "\n",
              "    .dataframe tbody tr th {\n",
              "        vertical-align: top;\n",
              "    }\n",
              "\n",
              "    .dataframe thead th {\n",
              "        text-align: right;\n",
              "    }\n",
              "</style>\n",
              "<table border=\"1\" class=\"dataframe\">\n",
              "  <thead>\n",
              "    <tr style=\"text-align: right;\">\n",
              "      <th></th>\n",
              "      <th>Condition Number</th>\n",
              "      <th>Condition Text</th>\n",
              "      <th>Classification</th>\n",
              "      <th>Requirement Description</th>\n",
              "      <th>Requirement Name</th>\n",
              "      <th>Referable Conditions</th>\n",
              "      <th>prediction</th>\n",
              "    </tr>\n",
              "  </thead>\n",
              "  <tbody>\n",
              "  </tbody>\n",
              "</table>\n",
              "</div>"
            ],
            "text/plain": [
              "Empty DataFrame\n",
              "Columns: [Condition Number, Condition Text, Classification, Requirement Description, Requirement Name, Referable Conditions, prediction]\n",
              "Index: []"
            ]
          },
          "metadata": {
            "tags": []
          },
          "execution_count": 199
        }
      ]
    },
    {
      "cell_type": "markdown",
      "metadata": {
        "id": "QR89uBVzatmt"
      },
      "source": [
        "*There are no instances where the above function does not produce the same value as in the Referable Conditions column.*"
      ]
    },
    {
      "cell_type": "code",
      "metadata": {
        "id": "aCFFMUga-_t3"
      },
      "source": [
        "# given a row, returns the Requirement Description for the row\n",
        "def getRequirementDescription(row):\n",
        "  if row['Classification'] != 'REQ':\n",
        "    return ''\n",
        "  rae_row = df[(df['Condition Number'] == '.'.join(row['Condition Number'].split('.')[:-2]) + '.') & (df['Classification'] == 'RAE')]\n",
        "  if len(rae_row) > 0:\n",
        "    return rae_row['Condition Number'].values[0] + '  ' + rae_row['Condition Text'].values[0] + '\\n\\n' + row['Condition Number'] + '  ' + row['Condition Text']\n",
        "  return row['Condition Text']"
      ],
      "execution_count": null,
      "outputs": []
    },
    {
      "cell_type": "code",
      "metadata": {
        "colab": {
          "base_uri": "https://localhost:8080/",
          "height": 171
        },
        "id": "MvcAax2jBbnX",
        "outputId": "ef2695b0-32d9-4f79-fae3-c26f54fb8685"
      },
      "source": [
        "df[df.apply(getRequirementDescription, axis=1) != df['Requirement Description']]"
      ],
      "execution_count": null,
      "outputs": [
        {
          "output_type": "execute_result",
          "data": {
            "text/html": [
              "<div>\n",
              "<style scoped>\n",
              "    .dataframe tbody tr th:only-of-type {\n",
              "        vertical-align: middle;\n",
              "    }\n",
              "\n",
              "    .dataframe tbody tr th {\n",
              "        vertical-align: top;\n",
              "    }\n",
              "\n",
              "    .dataframe thead th {\n",
              "        text-align: right;\n",
              "    }\n",
              "</style>\n",
              "<table border=\"1\" class=\"dataframe\">\n",
              "  <thead>\n",
              "    <tr style=\"text-align: right;\">\n",
              "      <th></th>\n",
              "      <th>Condition Number</th>\n",
              "      <th>Condition Text</th>\n",
              "      <th>Classification</th>\n",
              "      <th>Requirement Description</th>\n",
              "      <th>Requirement Name</th>\n",
              "      <th>Referable Conditions</th>\n",
              "      <th>prediction</th>\n",
              "    </tr>\n",
              "  </thead>\n",
              "  <tbody>\n",
              "    <tr>\n",
              "      <th>2</th>\n",
              "      <td>1.2.</td>\n",
              "      <td>EUG 2 Package Boilers</td>\n",
              "      <td>DSC</td>\n",
              "      <td></td>\n",
              "      <td></td>\n",
              "      <td></td>\n",
              "      <td>DSC</td>\n",
              "    </tr>\n",
              "    <tr>\n",
              "      <th>69</th>\n",
              "      <td>1.6.H.</td>\n",
              "      <td>Production Data.  Following each calendar day ...</td>\n",
              "      <td>REQ</td>\n",
              "      <td>Production Data Following each calendar day at...</td>\n",
              "      <td>1.6.H.</td>\n",
              "      <td>1., 1.6., 1.6.H.</td>\n",
              "      <td>REQ</td>\n",
              "    </tr>\n",
              "    <tr>\n",
              "      <th>70</th>\n",
              "      <td>1.6.I.</td>\n",
              "      <td>Conversion Factor.  During each required perfo...</td>\n",
              "      <td>REQ</td>\n",
              "      <td>Conversion Factor During each required perform...</td>\n",
              "      <td>1.6.I.</td>\n",
              "      <td>1., 1.6., 1.6.I.</td>\n",
              "      <td>REQ</td>\n",
              "    </tr>\n",
              "    <tr>\n",
              "      <th>73</th>\n",
              "      <td>1.6.J.2.</td>\n",
              "      <td>Rolling 365-day average.  Compliance with the ...</td>\n",
              "      <td>REQ</td>\n",
              "      <td>Rolling 365-day average. Compliance with the L...</td>\n",
              "      <td>1.6.J.2.</td>\n",
              "      <td>1., 1.6., 1.6.J., 1.6.J.2.</td>\n",
              "      <td>REQ</td>\n",
              "    </tr>\n",
              "  </tbody>\n",
              "</table>\n",
              "</div>"
            ],
            "text/plain": [
              "   Condition Number  ... prediction\n",
              "2              1.2.  ...        DSC\n",
              "69           1.6.H.  ...        REQ\n",
              "70           1.6.I.  ...        REQ\n",
              "73         1.6.J.2.  ...        REQ\n",
              "\n",
              "[4 rows x 7 columns]"
            ]
          },
          "metadata": {
            "tags": []
          },
          "execution_count": 240
        }
      ]
    },
    {
      "cell_type": "markdown",
      "metadata": {
        "id": "MuuO7r4Ea3ea"
      },
      "source": [
        "*There are 4 instances where the value returned by the above function is different from that in the Requirement Description column. For the first one, the value in the column is a blank space, for the next 2, the period is missing in Requirement Description column, and for the last one, there is an additional space after the period in the first line in the Condition Text.*"
      ]
    }
  ]
}